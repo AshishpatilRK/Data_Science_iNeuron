{
 "cells": [
  {
   "cell_type": "markdown",
   "id": "7d407475",
   "metadata": {},
   "source": [
    "18. Implement a decorator function called ‘timer’ that measures the execution time of a function. The ‘timer’ decorator should print the time taken by the decorated function to execute. Use the ‘time’ module in Python to calculate the execution time.\n",
    "\n",
    "Example:\n",
    "\n",
    "    import time\n",
    "\n",
    "    @timer\n",
    "    def my_function():\n",
    "        # Function code goes here\n",
    "        time.sleep(2)\n",
    "\n",
    "    my_function()"
   ]
  },
  {
   "cell_type": "code",
   "execution_count": 4,
   "id": "6dfbc084",
   "metadata": {},
   "outputs": [
    {
     "name": "stdout",
     "output_type": "stream",
     "text": [
      "Executing now\n",
      "Execution time  0.0 Seconds\n",
      "Execution time  2.0031604766845703 Seconds\n",
      "Execution time  4.015792369842529 Seconds\n",
      "Execution time  6.01684832572937 Seconds\n",
      "Execution time  8.02320671081543 Seconds\n",
      "Execution time  10.026763677597046 Seconds\n",
      "Execution time  12.035818576812744 Seconds\n",
      "Executed\n",
      "Total Execution time  14.042686939239502 Seconds\n"
     ]
    }
   ],
   "source": [
    "import time\n",
    "\n",
    "initial = time.time()\n",
    "def timer(my_function):\n",
    "    def nowexec() :\n",
    "        print(\"Executing now\")\n",
    "        k=0\n",
    "        while(k<7):\n",
    "            my_function()\n",
    "            k+=1\n",
    "        print(\"Executed\")\n",
    "    return nowexec\n",
    "\n",
    "@timer\n",
    "def my_function():\n",
    "    print(\"Execution time \",time.time()- initial, \"Seconds\")\n",
    "    time.sleep(2)\n",
    "    return \n",
    "my_function()\n",
    "print(\"Total Execution time \",time.time()- initial, \"Seconds\")"
   ]
  },
  {
   "cell_type": "code",
   "execution_count": null,
   "id": "66c058a7",
   "metadata": {},
   "outputs": [],
   "source": []
  }
 ],
 "metadata": {
  "kernelspec": {
   "display_name": "Python 3 (ipykernel)",
   "language": "python",
   "name": "python3"
  },
  "language_info": {
   "codemirror_mode": {
    "name": "ipython",
    "version": 3
   },
   "file_extension": ".py",
   "mimetype": "text/x-python",
   "name": "python",
   "nbconvert_exporter": "python",
   "pygments_lexer": "ipython3",
   "version": "3.9.13"
  }
 },
 "nbformat": 4,
 "nbformat_minor": 5
}
