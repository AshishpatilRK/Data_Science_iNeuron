{
 "cells": [
  {
   "cell_type": "markdown",
   "id": "d3e5b59e",
   "metadata": {},
   "source": [
    "# Core_Assignment_01"
   ]
  },
  {
   "cell_type": "markdown",
   "id": "854fbd10",
   "metadata": {},
   "source": [
    "1. Write a Python program to reverse a string without using any built-in string reversal functions."
   ]
  },
  {
   "cell_type": "code",
   "execution_count": 1,
   "id": "29dcb80b",
   "metadata": {},
   "outputs": [
    {
     "name": "stdout",
     "output_type": "stream",
     "text": [
      "nohtyp\n"
     ]
    }
   ],
   "source": [
    "def reverse_for_loop(s):\n",
    "    i = ''\n",
    "    for c in s:\n",
    "        i = c + i  # appending chars in reverse order\n",
    "    return i\n",
    "\n",
    "input_str = 'python'\n",
    "obj = reverse_for_loop(input_str)\n",
    "print(obj)"
   ]
  },
  {
   "cell_type": "markdown",
   "id": "f4f9cc41",
   "metadata": {},
   "source": [
    "2. Implement a function to check if a given string is a palindrome."
   ]
  },
  {
   "cell_type": "code",
   "execution_count": 2,
   "id": "5ad409c4",
   "metadata": {},
   "outputs": [
    {
     "name": "stdout",
     "output_type": "stream",
     "text": [
      "Yes\n"
     ]
    }
   ],
   "source": [
    "def isPalindrome(s):\n",
    "    if s.lower() == s[::-1].lower():\n",
    "        print(\"Yes\")\n",
    "    else:\n",
    "        print (\"No\")\n",
    "\n",
    "s = \"Nitin\"\n",
    "# s = \"121\"\n",
    "result = isPalindrome(s)"
   ]
  },
  {
   "cell_type": "markdown",
   "id": "cfc9f8ad",
   "metadata": {},
   "source": [
    "3. Write a program to find the largest element in a given list."
   ]
  },
  {
   "cell_type": "code",
   "execution_count": 3,
   "id": "31d226e1",
   "metadata": {},
   "outputs": [
    {
     "data": {
      "text/plain": [
       "10"
      ]
     },
     "execution_count": 3,
     "metadata": {},
     "output_type": "execute_result"
    }
   ],
   "source": [
    "def enterlist(lst):\n",
    "    n=len(lst)\n",
    "    mx=lst[0]\n",
    "\n",
    "    for i in range(1,n):\n",
    "        if lst[i]>mx:\n",
    "            mx=lst[i]\n",
    "            \n",
    "    return mx\n",
    "\n",
    "enterlist([2,5,10,6])"
   ]
  },
  {
   "cell_type": "markdown",
   "id": "fc15e5ea",
   "metadata": {},
   "source": [
    "4. Implement a function to count the occurrence of each element in a list."
   ]
  },
  {
   "cell_type": "code",
   "execution_count": 4,
   "id": "a209395c",
   "metadata": {},
   "outputs": [],
   "source": [
    "def count_(input_list):\n",
    "    count = {}\n",
    "\n",
    "    for element in input_list:\n",
    "        if element in count:\n",
    "            count[element] += 1\n",
    "        else:\n",
    "            count[element] = 1\n",
    "\n",
    "    return count"
   ]
  },
  {
   "cell_type": "code",
   "execution_count": 6,
   "id": "24e8c5d2",
   "metadata": {},
   "outputs": [
    {
     "data": {
      "text/plain": [
       "{1: 3, 2: 4, 3: 5, 4: 4, 6: 3, 7: 2, 8: 2, 5: 2, 9: 1}"
      ]
     },
     "execution_count": 6,
     "metadata": {},
     "output_type": "execute_result"
    }
   ],
   "source": [
    "l2 = [1,2,2,2,3,4,3,4,3,6,7,8,6,5,1,4,3,2,3,4,5,6,7,8,9,1]\n",
    "count_(l2)"
   ]
  },
  {
   "cell_type": "markdown",
   "id": "3a6226b0",
   "metadata": {},
   "source": [
    "5. Write a Python program to find the second largest number in a list."
   ]
  },
  {
   "cell_type": "code",
   "execution_count": 7,
   "id": "95ad6b5a",
   "metadata": {},
   "outputs": [
    {
     "data": {
      "text/plain": [
       "9"
      ]
     },
     "execution_count": 7,
     "metadata": {},
     "output_type": "execute_result"
    }
   ],
   "source": [
    "def enterlist(lst):\n",
    "    n=len(lst)\n",
    "    mx=lst[0]\n",
    "\n",
    "    for i in range(1,n):\n",
    "        if lst[i]>mx:\n",
    "            mx=lst[i]\n",
    "    for j in lst:\n",
    "        if j<=(mx-1):\n",
    "            smx=j\n",
    "            \n",
    "            \n",
    "    return smx\n",
    "\n",
    "enterlist([2,5,10,6,9])"
   ]
  },
  {
   "cell_type": "code",
   "execution_count": 8,
   "id": "6921f598",
   "metadata": {},
   "outputs": [
    {
     "data": {
      "text/plain": [
       "40"
      ]
     },
     "execution_count": 8,
     "metadata": {},
     "output_type": "execute_result"
    }
   ],
   "source": [
    "l3 = [10,20,30,50,40,33]\n",
    "\n",
    "def second_largest_in_list(input_list):\n",
    "    input_list.sort()\n",
    "    return input_list[-2]\n",
    "\n",
    "second_largest_in_list(l3)"
   ]
  },
  {
   "cell_type": "markdown",
   "id": "c58f62ee",
   "metadata": {},
   "source": [
    "6. Implement a function to remove duplicate elements from a list."
   ]
  },
  {
   "cell_type": "code",
   "execution_count": 9,
   "id": "3fad4672",
   "metadata": {},
   "outputs": [
    {
     "data": {
      "text/plain": [
       "{1, 2, 4, 6, 8, 9}"
      ]
     },
     "execution_count": 9,
     "metadata": {},
     "output_type": "execute_result"
    }
   ],
   "source": [
    "def removeduplicates(lst):\n",
    "    rmx=set(lst)\n",
    "    return rmx\n",
    "\n",
    "\n",
    "removeduplicates([1,2,2,4,8,9,8,6,4])"
   ]
  },
  {
   "cell_type": "markdown",
   "id": "844aa91d",
   "metadata": {},
   "source": [
    "7. Write a program to calculate the factorial of a given number."
   ]
  },
  {
   "cell_type": "code",
   "execution_count": 10,
   "id": "eeae581c",
   "metadata": {},
   "outputs": [
    {
     "data": {
      "text/plain": [
       "120"
      ]
     },
     "execution_count": 10,
     "metadata": {},
     "output_type": "execute_result"
    }
   ],
   "source": [
    "def factorial(nums):\n",
    "    n=nums+1\n",
    "    m=1\n",
    "    for i in range(1,n):\n",
    "        m=m*i\n",
    "    return m\n",
    "factorial(5)"
   ]
  },
  {
   "cell_type": "markdown",
   "id": "8a627d30",
   "metadata": {},
   "source": [
    "8. Implement a function to check if a given number is prime."
   ]
  },
  {
   "cell_type": "code",
   "execution_count": 11,
   "id": "22d356fd",
   "metadata": {},
   "outputs": [
    {
     "data": {
      "text/plain": [
       "'No it is not prime number'"
      ]
     },
     "execution_count": 11,
     "metadata": {},
     "output_type": "execute_result"
    }
   ],
   "source": [
    "def prime_number(n):\n",
    "    flag = False\n",
    "    if n > 1:\n",
    "        for i in range(2, n):\n",
    "            if n%i == 0:\n",
    "                flag = True\n",
    "            break\n",
    "    if flag :\n",
    "        return \"No it is not prime number\"\n",
    "    else:\n",
    "        return \"Yes It is prime number\"\n",
    "prime_number(6)"
   ]
  },
  {
   "cell_type": "code",
   "execution_count": 13,
   "id": "7d4303f4",
   "metadata": {},
   "outputs": [
    {
     "data": {
      "text/plain": [
       "'Yes It is prime number'"
      ]
     },
     "execution_count": 13,
     "metadata": {},
     "output_type": "execute_result"
    }
   ],
   "source": [
    "prime_number(7)"
   ]
  },
  {
   "cell_type": "markdown",
   "id": "ec5b4c8e",
   "metadata": {},
   "source": [
    "9. Write a Python program to sort a list of integers in ascending order."
   ]
  },
  {
   "cell_type": "code",
   "execution_count": 14,
   "id": "f5628f01",
   "metadata": {},
   "outputs": [
    {
     "name": "stdout",
     "output_type": "stream",
     "text": [
      "[1, 2, 4, 5, 8, 10]\n"
     ]
    },
    {
     "data": {
      "text/plain": [
       "[1, 2, 4, 5, 8, 10]"
      ]
     },
     "execution_count": 14,
     "metadata": {},
     "output_type": "execute_result"
    }
   ],
   "source": [
    "def srting(nums):\n",
    "    a=sorted(nums)\n",
    "    print(a)\n",
    "\n",
    "srting([1,5,2,8,10,4])\n",
    "\n",
    "\n",
    "#approach 2\n",
    "def sorting(nums1):\n",
    "    for i in range(len(nums1)):\n",
    "        for j in range(i + 1, len(nums1)):\n",
    "\n",
    "            if nums1[i] > nums1[j]:\n",
    "                temp=nums1[i]\n",
    "                nums1[i]=nums1[j]\n",
    "                nums1[j]=temp\n",
    "\n",
    "    return nums1\n",
    "\n",
    "sorting([1,5,2,8,10,4])"
   ]
  },
  {
   "cell_type": "markdown",
   "id": "194c5d2e",
   "metadata": {},
   "source": [
    "10. Implement a function to find the sum of all numbers in a list."
   ]
  },
  {
   "cell_type": "code",
   "execution_count": 15,
   "id": "c463ee01",
   "metadata": {},
   "outputs": [
    {
     "name": "stdout",
     "output_type": "stream",
     "text": [
      "7\n",
      "7\n"
     ]
    }
   ],
   "source": [
    "def summation(lst):\n",
    "    sm=0\n",
    "    for i in lst:\n",
    "        sm=sm+i\n",
    "    print(sm)\n",
    "     \n",
    "summation([1,2,4])\n",
    "\n",
    "\n",
    "#approach 2\n",
    "sm=sum([1,2,4])\n",
    "print(sm)"
   ]
  },
  {
   "cell_type": "markdown",
   "id": "630b94f6",
   "metadata": {},
   "source": [
    "11. Write a program to find the common elements between two lists."
   ]
  },
  {
   "cell_type": "code",
   "execution_count": 16,
   "id": "2078bd42",
   "metadata": {},
   "outputs": [
    {
     "data": {
      "text/plain": [
       "[2, 3]"
      ]
     },
     "execution_count": 16,
     "metadata": {},
     "output_type": "execute_result"
    }
   ],
   "source": [
    "def commonnos(nums1,nums2):\n",
    "    a=[]\n",
    "    for i in range(len(nums1)):\n",
    "        if nums1[i] in nums2:\n",
    "            a.append(nums1[i])\n",
    "        else:\n",
    "            i=i+1\n",
    "    return a\n",
    "\n",
    "commonnos([1,2,3,4],[2,3,5,8])"
   ]
  },
  {
   "cell_type": "markdown",
   "id": "c30d6459",
   "metadata": {},
   "source": [
    "12. Implement a function to check if a given string is an anagram of another string."
   ]
  },
  {
   "cell_type": "code",
   "execution_count": 17,
   "id": "a17ffab1",
   "metadata": {},
   "outputs": [
    {
     "name": "stdout",
     "output_type": "stream",
     "text": [
      "True\n"
     ]
    }
   ],
   "source": [
    "def anagram(str1,str2):\n",
    "    nums1=list(str1)\n",
    "    nums2=list(str2)\n",
    "    a=[]\n",
    "    l1=len(nums1)\n",
    "    l2=len(nums2)\n",
    "    #if l1==l2:\n",
    "    for i in range(0,l1):\n",
    "        if nums1[i] not in nums2:\n",
    "            return False\n",
    "            break\n",
    "        elif nums1[i] in nums2:\n",
    "            i=i+1\n",
    "        \n",
    "    print(True)\n",
    "    \n",
    "       \n",
    "\n",
    "anagram('silent','lnetsi')"
   ]
  },
  {
   "cell_type": "code",
   "execution_count": 18,
   "id": "a60a9c3e",
   "metadata": {},
   "outputs": [
    {
     "name": "stdout",
     "output_type": "stream",
     "text": [
      "True\n"
     ]
    }
   ],
   "source": [
    "anagram('ashish','devashish')"
   ]
  },
  {
   "cell_type": "code",
   "execution_count": 19,
   "id": "de1aa3c2",
   "metadata": {},
   "outputs": [
    {
     "data": {
      "text/plain": [
       "False"
      ]
     },
     "execution_count": 19,
     "metadata": {},
     "output_type": "execute_result"
    }
   ],
   "source": [
    "anagram('ashish','patil')"
   ]
  },
  {
   "cell_type": "markdown",
   "id": "7a1d6a25",
   "metadata": {},
   "source": [
    "13. Write a Python program to generate all permutations of a given string."
   ]
  },
  {
   "cell_type": "code",
   "execution_count": 20,
   "id": "3a8973ba",
   "metadata": {},
   "outputs": [
    {
     "name": "stdout",
     "output_type": "stream",
     "text": [
      "['abc', 'acb', 'bac', 'bca', 'cab', 'cba']\n"
     ]
    }
   ],
   "source": [
    "def permutations(str1):\n",
    "  \n",
    "    if len(str1)==1:\n",
    "        return str1\n",
    "    a=[]\n",
    "    for i in range(len(str1)):\n",
    "        char=str1[i]\n",
    "        remaining=str1[:i]+str1[i+1:]\n",
    "        substring=permutations(remaining)\n",
    "        for k in substring:\n",
    "            a.append(char+k)\n",
    "    \n",
    "    return a\n",
    "\n",
    "\n",
    "ss=permutations('abc')\n",
    "print(ss)"
   ]
  },
  {
   "cell_type": "markdown",
   "id": "52666400",
   "metadata": {},
   "source": [
    "14. Implement a function to calculate the Fibonacci sequence up to a given number of terms."
   ]
  },
  {
   "cell_type": "code",
   "execution_count": 21,
   "id": "461d0ec3",
   "metadata": {},
   "outputs": [
    {
     "name": "stdout",
     "output_type": "stream",
     "text": [
      "0 1 1 2 3 "
     ]
    }
   ],
   "source": [
    "def fibonacci(n):\n",
    "    nums1=0\n",
    "    nums2=1\n",
    "    nextno=0\n",
    "    for i in range(0,n):\n",
    "        print(nextno, end=\" \")\n",
    "        nums1=nums2\n",
    "        nums2=nextno\n",
    "        nextno=nums1+nums2\n",
    "    \n",
    "    return \n",
    "\n",
    "fibonacci(5)"
   ]
  },
  {
   "cell_type": "markdown",
   "id": "94a15bec",
   "metadata": {},
   "source": [
    "15. Write a program to find the median of a list of numbers."
   ]
  },
  {
   "cell_type": "code",
   "execution_count": 22,
   "id": "c6fd29a7",
   "metadata": {},
   "outputs": [
    {
     "name": "stdout",
     "output_type": "stream",
     "text": [
      "Median: 24\n"
     ]
    }
   ],
   "source": [
    "def find_median(numbers):\n",
    "    sorted_numbers = sorted(numbers)\n",
    "    n = len(sorted_numbers)\n",
    "    if n % 2 == 0:\n",
    "        mid = n // 2\n",
    "        median = (sorted_numbers[mid - 1] + sorted_numbers[mid]) / 2\n",
    "    else:\n",
    "        mid = n // 2\n",
    "        median = sorted_numbers[mid]\n",
    "    return median\n",
    "\n",
    "numbers = [10,20,30,40,33,23,24]\n",
    "median = find_median(numbers)\n",
    "print(\"Median:\", median)"
   ]
  },
  {
   "cell_type": "markdown",
   "id": "02de870e",
   "metadata": {},
   "source": [
    "16. Implement a function to check if a given list is sorted in non-decreasing order."
   ]
  },
  {
   "cell_type": "code",
   "execution_count": 23,
   "id": "e01f566f",
   "metadata": {},
   "outputs": [
    {
     "name": "stdout",
     "output_type": "stream",
     "text": [
      "The list is sorted in non-decreasing order.\n"
     ]
    }
   ],
   "source": [
    "def is_sorted(lst):\n",
    "    for i in range(len(lst) - 1):\n",
    "        if lst[i] > lst[i + 1]:\n",
    "            return False\n",
    "    return True\n",
    "\n",
    "numbers = [1, 2, 3, 4, 5]\n",
    "if is_sorted(numbers):\n",
    "    print(\"The list is sorted in non-decreasing order.\")\n",
    "else:\n",
    "    print(\"The list is not sorted in non-decreasing order.\")"
   ]
  },
  {
   "cell_type": "markdown",
   "id": "17aa05ce",
   "metadata": {},
   "source": [
    "17. Write a Python program to find the intersection of two lists."
   ]
  },
  {
   "cell_type": "code",
   "execution_count": 24,
   "id": "5a33e01d",
   "metadata": {},
   "outputs": [
    {
     "data": {
      "text/plain": [
       "[2, 3]"
      ]
     },
     "execution_count": 24,
     "metadata": {},
     "output_type": "execute_result"
    }
   ],
   "source": [
    "def intersection(nums1,nums2):\n",
    "    a=[]\n",
    "    for i in range(len(nums1)):\n",
    "        if nums1[i] in nums2:\n",
    "            a.append(nums1[i])\n",
    "        else:\n",
    "            i=i+1\n",
    "    return a\n",
    "\n",
    "intersection([1,2,3,4],[2,3,5,8])\n",
    "    "
   ]
  },
  {
   "cell_type": "markdown",
   "id": "f67c3d64",
   "metadata": {},
   "source": [
    "18. Implement a function to find the maximum subarray sum in a given list."
   ]
  },
  {
   "cell_type": "code",
   "execution_count": 27,
   "id": "6bbd9dda",
   "metadata": {},
   "outputs": [
    {
     "name": "stdout",
     "output_type": "stream",
     "text": [
      "15\n"
     ]
    }
   ],
   "source": [
    "#Using Kadane's Algorithm\n",
    "def max_subarray(nums):\n",
    "    sum=0\n",
    "    max = float('-inf')\n",
    "    for i in nums:\n",
    "        sum = sum + i\n",
    "        \n",
    "        if sum > max:\n",
    "            max = sum\n",
    "        else:\n",
    "            sum=0\n",
    "    return max\n",
    "\n",
    "print(max_subarray([-1,-2,-3,1,2,3,4,5]))"
   ]
  },
  {
   "cell_type": "markdown",
   "id": "87990849",
   "metadata": {},
   "source": [
    "19. Write a program to remove all vowels from a given string."
   ]
  },
  {
   "cell_type": "code",
   "execution_count": 28,
   "id": "8e7325b0",
   "metadata": {},
   "outputs": [
    {
     "data": {
      "text/plain": [
       "'dcf'"
      ]
     },
     "execution_count": 28,
     "metadata": {},
     "output_type": "execute_result"
    }
   ],
   "source": [
    "def vowels(str1):\n",
    "    b=[]\n",
    "    a=['a','e','i','o','u']\n",
    "    st=list(str1)\n",
    "    for i in range(len(st)):\n",
    "        if st[i] not in a:\n",
    "            b.append(st[i])\n",
    "            cc=''.join(b)\n",
    "        else:\n",
    "            i=i+1\n",
    "    return cc\n",
    "\n",
    "vowels('adcef')"
   ]
  },
  {
   "cell_type": "markdown",
   "id": "5b5d7c72",
   "metadata": {},
   "source": [
    "20. Implement a function to reverse the order of words in a given sentence."
   ]
  },
  {
   "cell_type": "code",
   "execution_count": 29,
   "id": "de9a0eb9",
   "metadata": {},
   "outputs": [
    {
     "data": {
      "text/plain": [
       "'bus the catch to running was I'"
      ]
     },
     "execution_count": 29,
     "metadata": {},
     "output_type": "execute_result"
    }
   ],
   "source": [
    "def reversewords(sentence):\n",
    "    ss=sentence.split(' ')\n",
    "    reverse=ss[::-1]\n",
    "    rr=' '.join(reverse)\n",
    "    return rr\n",
    "\n",
    "reversewords('I was running to catch the bus')"
   ]
  },
  {
   "cell_type": "markdown",
   "id": "8cc19371",
   "metadata": {},
   "source": [
    "21. Write a Python program to check if two strings are anagrams of each other."
   ]
  },
  {
   "cell_type": "code",
   "execution_count": 30,
   "id": "6e2a5dc0",
   "metadata": {},
   "outputs": [
    {
     "name": "stdout",
     "output_type": "stream",
     "text": [
      "True\n"
     ]
    }
   ],
   "source": [
    "def anagram(str1,str2):\n",
    "    nums1=list(str1)\n",
    "    nums2=list(str2)\n",
    "    a=[]\n",
    "    l1=len(nums1)\n",
    "    l2=len(nums2)\n",
    "    #if l1==l2:\n",
    "    for i in range(0,l1):\n",
    "        if nums1[i] not in nums2:\n",
    "            return False\n",
    "            break\n",
    "        elif nums1[i] in nums2:\n",
    "            i=i+1\n",
    "        \n",
    "    print(True)\n",
    "    \n",
    "       \n",
    "\n",
    "anagram('silent','lnetsi')"
   ]
  },
  {
   "cell_type": "code",
   "execution_count": 31,
   "id": "4fd46070",
   "metadata": {},
   "outputs": [
    {
     "data": {
      "text/plain": [
       "False"
      ]
     },
     "execution_count": 31,
     "metadata": {},
     "output_type": "execute_result"
    }
   ],
   "source": [
    "anagram('ramesh','suresh')"
   ]
  },
  {
   "cell_type": "code",
   "execution_count": 32,
   "id": "7dfa2cd7",
   "metadata": {},
   "outputs": [
    {
     "name": "stdout",
     "output_type": "stream",
     "text": [
      "True\n"
     ]
    }
   ],
   "source": [
    "anagram(\"madam\",\"adamm\")"
   ]
  },
  {
   "cell_type": "markdown",
   "id": "27fe6d9e",
   "metadata": {},
   "source": [
    "22. Implement a function to find the first non-repeating character in a string."
   ]
  },
  {
   "cell_type": "code",
   "execution_count": 33,
   "id": "03f54291",
   "metadata": {},
   "outputs": [
    {
     "name": "stdout",
     "output_type": "stream",
     "text": [
      "r\n"
     ]
    }
   ],
   "source": [
    "def nonrepeating(string):\n",
    "    str1=list(string)\n",
    "    n=len(str1)\n",
    "    \n",
    "    for i in range(1,len(str1)):\n",
    "        j=i-1\n",
    "        if str1[j] not in str1[i:n]:\n",
    "            print(str1[j])\n",
    "            break\n",
    "        else:\n",
    "            i=i+1\n",
    "            \n",
    "    return \n",
    "\n",
    "nonrepeating('srins')"
   ]
  },
  {
   "cell_type": "code",
   "execution_count": 34,
   "id": "cff1fb0b",
   "metadata": {},
   "outputs": [
    {
     "name": "stdout",
     "output_type": "stream",
     "text": [
      "d\n"
     ]
    }
   ],
   "source": [
    "nonrepeating('madam')"
   ]
  },
  {
   "cell_type": "markdown",
   "id": "718ff357",
   "metadata": {},
   "source": [
    "23. Write a program to find the prime factors of a given number."
   ]
  },
  {
   "cell_type": "code",
   "execution_count": 35,
   "id": "95cef85a",
   "metadata": {},
   "outputs": [
    {
     "data": {
      "text/plain": [
       "[2, 2, 3, 3]"
      ]
     },
     "execution_count": 35,
     "metadata": {},
     "output_type": "execute_result"
    }
   ],
   "source": [
    "def primefactors(number):\n",
    "    factors = []  \n",
    "   \n",
    "    while number % 2 == 0:\n",
    "        factors.append(2)\n",
    "        number //= 2\n",
    "\n",
    "    \n",
    "    i = 3\n",
    "    while i * i <= number:\n",
    "        while number % i == 0:\n",
    "            factors.append(i)\n",
    "            number //= i\n",
    "        i += 2  \n",
    "\n",
    "  \n",
    "    if number > 1:\n",
    "        factors.append(number)\n",
    "\n",
    "    return factors\n",
    "\n",
    "\n",
    "\n",
    "primefactors(36)"
   ]
  },
  {
   "cell_type": "code",
   "execution_count": 36,
   "id": "e80f6cd2",
   "metadata": {},
   "outputs": [
    {
     "data": {
      "text/plain": [
       "[2, 3, 5]"
      ]
     },
     "execution_count": 36,
     "metadata": {},
     "output_type": "execute_result"
    }
   ],
   "source": [
    "primefactors(30)"
   ]
  },
  {
   "cell_type": "markdown",
   "id": "50d9a58d",
   "metadata": {},
   "source": [
    "24. Implement a function to check if a given number is a power of two."
   ]
  },
  {
   "cell_type": "code",
   "execution_count": 37,
   "id": "29c79135",
   "metadata": {},
   "outputs": [],
   "source": [
    "def isPowerOfTwo(n):\n",
    "    if n == 1:\n",
    "        return True\n",
    "    if n < 1 or n % 2 == 1:\n",
    "        return False\n",
    "    return isPowerOfTwo(n // 2)"
   ]
  },
  {
   "cell_type": "code",
   "execution_count": 38,
   "id": "5e4cb8c2",
   "metadata": {},
   "outputs": [
    {
     "data": {
      "text/plain": [
       "True"
      ]
     },
     "execution_count": 38,
     "metadata": {},
     "output_type": "execute_result"
    }
   ],
   "source": [
    "isPowerOfTwo(16)"
   ]
  },
  {
   "cell_type": "code",
   "execution_count": 39,
   "id": "44c334c4",
   "metadata": {},
   "outputs": [
    {
     "data": {
      "text/plain": [
       "False"
      ]
     },
     "execution_count": 39,
     "metadata": {},
     "output_type": "execute_result"
    }
   ],
   "source": [
    "isPowerOfTwo(7)"
   ]
  },
  {
   "cell_type": "code",
   "execution_count": 40,
   "id": "3e34e58f",
   "metadata": {},
   "outputs": [
    {
     "data": {
      "text/plain": [
       "False"
      ]
     },
     "execution_count": 40,
     "metadata": {},
     "output_type": "execute_result"
    }
   ],
   "source": [
    "isPowerOfTwo(36)"
   ]
  },
  {
   "cell_type": "markdown",
   "id": "3136aa45",
   "metadata": {},
   "source": [
    "25. Write a Python program to merge two sorted lists into a single sorted list."
   ]
  },
  {
   "cell_type": "code",
   "execution_count": 41,
   "id": "90860929",
   "metadata": {},
   "outputs": [
    {
     "name": "stdout",
     "output_type": "stream",
     "text": [
      "[1, 5, 6, 8, 9, 10]\n"
     ]
    }
   ],
   "source": [
    "def mergesort(lst1,lst2):\n",
    "    lst3=lst1+lst2\n",
    "    print(sorted(lst3))\n",
    "    return\n",
    "\n",
    "mergesort([1,5,8],[6,9,10])"
   ]
  },
  {
   "cell_type": "markdown",
   "id": "6c63c2c7",
   "metadata": {},
   "source": [
    "26. Implement a function to find the mode of a list of numbers."
   ]
  },
  {
   "cell_type": "code",
   "execution_count": 42,
   "id": "85b7415e",
   "metadata": {},
   "outputs": [
    {
     "data": {
      "text/plain": [
       "2"
      ]
     },
     "execution_count": 42,
     "metadata": {},
     "output_type": "execute_result"
    }
   ],
   "source": [
    "def mode(lst):\n",
    "    dict={}\n",
    "    for i in range(len(lst)):\n",
    "        dict[lst[i]]=lst.count(lst[i])\n",
    "        key=list(filter(lambda x:dict[x]==max(dict.values()),dict))[0]\n",
    "    return key\n",
    "\n",
    "mode([1,2,5,8,2,6])"
   ]
  },
  {
   "cell_type": "code",
   "execution_count": 43,
   "id": "7ea49922",
   "metadata": {},
   "outputs": [
    {
     "data": {
      "text/plain": [
       "20"
      ]
     },
     "execution_count": 43,
     "metadata": {},
     "output_type": "execute_result"
    }
   ],
   "source": [
    "mode([10,20,20,20,30])"
   ]
  },
  {
   "cell_type": "markdown",
   "id": "0988b9b7",
   "metadata": {},
   "source": [
    "27. Write a program to find the greatest common divisor (GCD) of two numbers."
   ]
  },
  {
   "cell_type": "code",
   "execution_count": 44,
   "id": "4e73ab74",
   "metadata": {},
   "outputs": [
    {
     "data": {
      "text/plain": [
       "2"
      ]
     },
     "execution_count": 44,
     "metadata": {},
     "output_type": "execute_result"
    }
   ],
   "source": [
    "def gcd(num1,num2):\n",
    "    while num2!=0:\n",
    "        num1,num2=num2,num1%num2\n",
    "    return num1\n",
    "\n",
    "gcd(200,18)"
   ]
  },
  {
   "cell_type": "code",
   "execution_count": 45,
   "id": "78e6432a",
   "metadata": {},
   "outputs": [
    {
     "data": {
      "text/plain": [
       "5"
      ]
     },
     "execution_count": 45,
     "metadata": {},
     "output_type": "execute_result"
    }
   ],
   "source": [
    "gcd(10,15)"
   ]
  },
  {
   "cell_type": "markdown",
   "id": "e869121b",
   "metadata": {},
   "source": [
    "28. Implement a function to calculate the square root of a given number."
   ]
  },
  {
   "cell_type": "code",
   "execution_count": 47,
   "id": "3de197ce",
   "metadata": {},
   "outputs": [
    {
     "name": "stdout",
     "output_type": "stream",
     "text": [
      "2\n",
      "4\n"
     ]
    }
   ],
   "source": [
    "def square_root(n):\n",
    "    if n < 0:\n",
    "        raise ValueError(\"Square root is not defined for negative numbers.\")\n",
    "\n",
    "    if n == 0:\n",
    "        return 0\n",
    "\n",
    "    x = n\n",
    "    y = (x + 1) // 2\n",
    "\n",
    "    while y < x:\n",
    "        x = y\n",
    "        y = (x + n // x) // 2\n",
    "\n",
    "    return x\n",
    "\n",
    "print(square_root(4))\n",
    "print(square_root(17))"
   ]
  },
  {
   "cell_type": "code",
   "execution_count": 48,
   "id": "071660f1",
   "metadata": {},
   "outputs": [
    {
     "name": "stdout",
     "output_type": "stream",
     "text": [
      "2.2360679779158037\n"
     ]
    }
   ],
   "source": [
    "def squareroot(number):\n",
    "    if number == 0 or number == 1:\n",
    "        return number\n",
    "    \n",
    "    guess = number / 2\n",
    "    threshold = 0.0001  \n",
    "\n",
    "    while abs(guess * guess - number) > threshold:\n",
    "        guess = (guess + number / guess) / 2\n",
    "\n",
    "    return guess\n",
    "\n",
    "ss=squareroot(5)\n",
    "print(ss)\n"
   ]
  },
  {
   "cell_type": "markdown",
   "id": "067a97e3",
   "metadata": {},
   "source": [
    "29. Write a Python program to check if a given string is a valid palindrome ignoring non-alphanumeric characters."
   ]
  },
  {
   "cell_type": "code",
   "execution_count": 49,
   "id": "387d0af6",
   "metadata": {},
   "outputs": [
    {
     "data": {
      "text/plain": [
       "True"
      ]
     },
     "execution_count": 49,
     "metadata": {},
     "output_type": "execute_result"
    }
   ],
   "source": [
    "import re\n",
    "def enterstring(string):\n",
    "    str1 = re.sub('[^a-zA-Z0-9]', '', string.lower())\n",
    "    \n",
    "    s1=str1[::-1]\n",
    "    if s1==str1:\n",
    "        return True\n",
    "    else:\n",
    "        return False\n",
    "enterstring(\"na**yan\")"
   ]
  },
  {
   "cell_type": "code",
   "execution_count": 50,
   "id": "4fa36fad",
   "metadata": {},
   "outputs": [
    {
     "data": {
      "text/plain": [
       "True"
      ]
     },
     "execution_count": 50,
     "metadata": {},
     "output_type": "execute_result"
    }
   ],
   "source": [
    "enterstring(\"Ma..D:aM\")"
   ]
  },
  {
   "cell_type": "markdown",
   "id": "c44881b3",
   "metadata": {},
   "source": [
    "30. Implement a function to find the minimum element in a rotated sorted list."
   ]
  },
  {
   "cell_type": "code",
   "execution_count": 51,
   "id": "7266c547",
   "metadata": {},
   "outputs": [
    {
     "name": "stdout",
     "output_type": "stream",
     "text": [
      "1\n"
     ]
    }
   ],
   "source": [
    "def rotatedsort(num):\n",
    "    n=len(num)-1\n",
    "    k=len(num)\n",
    "    for i in range(1,k):\n",
    "        m=n-i\n",
    "        if num[k-i]<num[0]:\n",
    "            i=i+1\n",
    "        else:\n",
    "            print(num[k-i+1])\n",
    "            break\n",
    "    return \n",
    "\n",
    "rotatedsort([5,6,8,1,2,3])"
   ]
  },
  {
   "cell_type": "code",
   "execution_count": 52,
   "id": "a43f29f5",
   "metadata": {},
   "outputs": [
    {
     "name": "stdout",
     "output_type": "stream",
     "text": [
      "1\n"
     ]
    }
   ],
   "source": [
    "rotatedsort([4,5,6,7,1,2,3])"
   ]
  },
  {
   "cell_type": "markdown",
   "id": "1b32390c",
   "metadata": {},
   "source": [
    "31. Write a program to find the sum of all even numbers in a list."
   ]
  },
  {
   "cell_type": "code",
   "execution_count": 53,
   "id": "7f229a8f",
   "metadata": {},
   "outputs": [
    {
     "data": {
      "text/plain": [
       "6"
      ]
     },
     "execution_count": 53,
     "metadata": {},
     "output_type": "execute_result"
    }
   ],
   "source": [
    "def sumeven(num):\n",
    "    s=0\n",
    "    for i in range(len(num)):\n",
    "        if num[i]%2==0:\n",
    "            s=s+num[i]\n",
    "        else:\n",
    "            i=i+1\n",
    "    return s\n",
    "\n",
    "sumeven([1,2,4])"
   ]
  },
  {
   "cell_type": "code",
   "execution_count": 54,
   "id": "c105f8a2",
   "metadata": {},
   "outputs": [
    {
     "data": {
      "text/plain": [
       "30"
      ]
     },
     "execution_count": 54,
     "metadata": {},
     "output_type": "execute_result"
    }
   ],
   "source": [
    "sumeven([1,2,3,4,5,6,7,8,9,10])"
   ]
  },
  {
   "cell_type": "markdown",
   "id": "72a4e216",
   "metadata": {},
   "source": [
    "32. Implement a function to calculate the power of a number using recursion."
   ]
  },
  {
   "cell_type": "code",
   "execution_count": 55,
   "id": "af8ed8e8",
   "metadata": {},
   "outputs": [
    {
     "data": {
      "text/plain": [
       "8"
      ]
     },
     "execution_count": 55,
     "metadata": {},
     "output_type": "execute_result"
    }
   ],
   "source": [
    "def power(base, exponent):\n",
    "    if exponent == 0:\n",
    "        return 1\n",
    "    else:\n",
    "        return base * power(base, exponent - 1)\n",
    "    \n",
    "power(2,3)"
   ]
  },
  {
   "cell_type": "code",
   "execution_count": 56,
   "id": "cd1ad591",
   "metadata": {},
   "outputs": [
    {
     "data": {
      "text/plain": [
       "625"
      ]
     },
     "execution_count": 56,
     "metadata": {},
     "output_type": "execute_result"
    }
   ],
   "source": [
    "power(5,4)"
   ]
  },
  {
   "cell_type": "markdown",
   "id": "7d78dd5f",
   "metadata": {},
   "source": [
    "33. Write a Python program to remove duplicates from a list while preserving the order."
   ]
  },
  {
   "cell_type": "code",
   "execution_count": 57,
   "id": "82fbe024",
   "metadata": {},
   "outputs": [
    {
     "name": "stdout",
     "output_type": "stream",
     "text": [
      "[1, 2, 4, 8, 5]\n"
     ]
    }
   ],
   "source": [
    "lst=[1,2,4,2,8,5,5,8]\n",
    "i=0\n",
    "n=len(lst)\n",
    "while i< n:\n",
    "    j=i+1\n",
    "    while j<n:\n",
    "        if lst[i]==lst[j]:\n",
    "            lst.pop(j)\n",
    "            n-=1\n",
    "        else:\n",
    "            j=j+1\n",
    "    i=i+1\n",
    "        \n",
    "    \n",
    "print(lst)"
   ]
  },
  {
   "cell_type": "markdown",
   "id": "9af126ef",
   "metadata": {},
   "source": [
    "34. Implement a function to find the longest common prefix among a list of strings."
   ]
  },
  {
   "cell_type": "code",
   "execution_count": 58,
   "id": "c22fd7cb",
   "metadata": {},
   "outputs": [
    {
     "name": "stdout",
     "output_type": "stream",
     "text": [
      "fl\n"
     ]
    }
   ],
   "source": [
    "def longest_common_prefix(strs):\n",
    "    if not strs:\n",
    "        return \"\"\n",
    "\n",
    "    prefix = strs[0]\n",
    "    for i in range(1, len(strs)):\n",
    "        while strs[i].find(prefix) != 0:\n",
    "            prefix = prefix[:-1]\n",
    "            if not prefix:\n",
    "                return \"\"\n",
    "    \n",
    "    return prefix\n",
    "\n",
    "print(longest_common_prefix([\"flow\",\"flower\",\"flight\",\"flown\"]))"
   ]
  },
  {
   "cell_type": "markdown",
   "id": "1fe184b0",
   "metadata": {},
   "source": [
    "35. Write a program to check if a given number is a perfect square."
   ]
  },
  {
   "cell_type": "code",
   "execution_count": 59,
   "id": "f06ec2c0",
   "metadata": {},
   "outputs": [
    {
     "name": "stdout",
     "output_type": "stream",
     "text": [
      "True\n"
     ]
    }
   ],
   "source": [
    "def is_perfect_square(num):\n",
    "    if num < 0:\n",
    "        return False\n",
    "\n",
    "    if num == 0:\n",
    "        return True\n",
    "\n",
    "    left = 1\n",
    "    right = num\n",
    "\n",
    "    while left <= right:\n",
    "        mid = (left + right) // 2\n",
    "        square = mid * mid\n",
    "\n",
    "        if square == num:\n",
    "            return True\n",
    "        elif square < num:\n",
    "            left = mid + 1\n",
    "        else:\n",
    "            right = mid - 1\n",
    "\n",
    "    return False\n",
    "\n",
    "print(is_perfect_square(16))"
   ]
  },
  {
   "cell_type": "markdown",
   "id": "089d1e73",
   "metadata": {},
   "source": [
    "36. Implement a function to calculate the product of all elements in a list."
   ]
  },
  {
   "cell_type": "code",
   "execution_count": 60,
   "id": "262dd22c",
   "metadata": {},
   "outputs": [
    {
     "data": {
      "text/plain": [
       "6"
      ]
     },
     "execution_count": 60,
     "metadata": {},
     "output_type": "execute_result"
    }
   ],
   "source": [
    "def product(lst):\n",
    "    s=1\n",
    "    for i in range(len(lst)):\n",
    "        s=s*lst[i]\n",
    "        i=i+1\n",
    "        \n",
    "    return s\n",
    "\n",
    "product([1,2,3])"
   ]
  },
  {
   "cell_type": "code",
   "execution_count": 61,
   "id": "4b1455a8",
   "metadata": {},
   "outputs": [
    {
     "data": {
      "text/plain": [
       "720"
      ]
     },
     "execution_count": 61,
     "metadata": {},
     "output_type": "execute_result"
    }
   ],
   "source": [
    "product([2,3,4,5,6])"
   ]
  },
  {
   "cell_type": "markdown",
   "id": "5c538f6b",
   "metadata": {},
   "source": [
    "37. Write a Python program to reverse the order of words in a sentence while preserving the word order."
   ]
  },
  {
   "cell_type": "code",
   "execution_count": 62,
   "id": "5e205449",
   "metadata": {},
   "outputs": [
    {
     "data": {
      "text/plain": [
       "'Delhi to travelling was I'"
      ]
     },
     "execution_count": 62,
     "metadata": {},
     "output_type": "execute_result"
    }
   ],
   "source": [
    "sentence='I was travelling to Delhi'\n",
    "ss=sentence.split(' ')\n",
    "' '.join(ss[::-1])"
   ]
  },
  {
   "cell_type": "markdown",
   "id": "b9adc336",
   "metadata": {},
   "source": [
    "38. Implement a function to find the missing number in a given list of consecutive numbers."
   ]
  },
  {
   "cell_type": "code",
   "execution_count": 63,
   "id": "91d9d4fe",
   "metadata": {},
   "outputs": [
    {
     "data": {
      "text/plain": [
       "10"
      ]
     },
     "execution_count": 63,
     "metadata": {},
     "output_type": "execute_result"
    }
   ],
   "source": [
    "def missingnumber(num):\n",
    "    n=len(num)\n",
    "    start=num[0]\n",
    "    end=num[n-1]+1\n",
    "    for i in range(start,end):\n",
    "        if i not in num:\n",
    "            missing=i\n",
    "        else:\n",
    "            i=i+1\n",
    "            \n",
    "    return missing\n",
    "\n",
    "missingnumber([4,5,6,7,8,9,11])"
   ]
  },
  {
   "cell_type": "code",
   "execution_count": 64,
   "id": "e6bf8f24",
   "metadata": {},
   "outputs": [
    {
     "data": {
      "text/plain": [
       "5"
      ]
     },
     "execution_count": 64,
     "metadata": {},
     "output_type": "execute_result"
    }
   ],
   "source": [
    "missingnumber([1,2,3,4,6,7,8,9])"
   ]
  },
  {
   "cell_type": "markdown",
   "id": "a507c2f7",
   "metadata": {},
   "source": [
    "39. Write a program to find the sum of digits of a given number."
   ]
  },
  {
   "cell_type": "code",
   "execution_count": 65,
   "id": "c7ee8b27",
   "metadata": {},
   "outputs": [
    {
     "data": {
      "text/plain": [
       "6"
      ]
     },
     "execution_count": 65,
     "metadata": {},
     "output_type": "execute_result"
    }
   ],
   "source": [
    "def sumofdigits(num):\n",
    "    digit_sum = 0\n",
    "    while num > 0:\n",
    "        digit = num % 10\n",
    "        digit_sum += digit\n",
    "        num //= 10\n",
    "    return digit_sum\n",
    "\n",
    "sumofdigits(123)"
   ]
  },
  {
   "cell_type": "code",
   "execution_count": 66,
   "id": "4aa396d8",
   "metadata": {},
   "outputs": [
    {
     "data": {
      "text/plain": [
       "32"
      ]
     },
     "execution_count": 66,
     "metadata": {},
     "output_type": "execute_result"
    }
   ],
   "source": [
    "sumofdigits(1235678)"
   ]
  },
  {
   "cell_type": "markdown",
   "id": "a486404a",
   "metadata": {},
   "source": [
    "40. Implement a function to check if a given string is a valid palindrome considering case sensitivity."
   ]
  },
  {
   "cell_type": "code",
   "execution_count": 67,
   "id": "ed6f398f",
   "metadata": {},
   "outputs": [
    {
     "data": {
      "text/plain": [
       "True"
      ]
     },
     "execution_count": 67,
     "metadata": {},
     "output_type": "execute_result"
    }
   ],
   "source": [
    "def palindrome(string):\n",
    "    string = string.replace(\" \", \"\").lower()\n",
    "    st=string[::-1]\n",
    "    if st==string:\n",
    "        return True\n",
    "    else:\n",
    "        return False\n",
    "    \n",
    "palindrome('Nayan')"
   ]
  },
  {
   "cell_type": "markdown",
   "id": "942fd7d8",
   "metadata": {},
   "source": [
    "41. Write a Python program to find the smallest missing positive integer in a list."
   ]
  },
  {
   "cell_type": "code",
   "execution_count": 68,
   "id": "c99c8a51",
   "metadata": {},
   "outputs": [
    {
     "data": {
      "text/plain": [
       "3"
      ]
     },
     "execution_count": 68,
     "metadata": {},
     "output_type": "execute_result"
    }
   ],
   "source": [
    "def missing(nums):\n",
    "    num=set(nums)\n",
    "    ps=1\n",
    "    while ps in num:\n",
    "        ps+=1\n",
    "        \n",
    "    return ps\n",
    "\n",
    "missing([1,2,4,5,7,8])"
   ]
  },
  {
   "cell_type": "markdown",
   "id": "2e43c157",
   "metadata": {},
   "source": [
    "42. Implement a function to find the longest palindrome substring in a given string."
   ]
  },
  {
   "cell_type": "code",
   "execution_count": 69,
   "id": "006a6243",
   "metadata": {},
   "outputs": [
    {
     "name": "stdout",
     "output_type": "stream",
     "text": [
      "madam\n",
      "meyem\n"
     ]
    }
   ],
   "source": [
    "def longestPalindrome(s):\n",
    "        p = ''\n",
    "        for i in range(len(s)):\n",
    "            p1 = get_palindrome(s, i, i+1)\n",
    "            p2 = get_palindrome(s, i, i)\n",
    "            p = max([p, p1, p2], key=len)\n",
    "        return p\n",
    "    \n",
    "def get_palindrome(s, l, r):\n",
    "        while l >= 0 and r < len(s) and s[l] == s[r]:\n",
    "            l -= 1\n",
    "            r += 1\n",
    "        return s[l+1:r]\n",
    "    \n",
    "print(longestPalindrome(\"abcdemadamabc\"))\n",
    "print(longestPalindrome(\"plameyemsdnnjcd\"))"
   ]
  },
  {
   "cell_type": "markdown",
   "id": "80733af2",
   "metadata": {},
   "source": [
    "43. Write a program to find the number of occurrences of a given element in a list."
   ]
  },
  {
   "cell_type": "code",
   "execution_count": 70,
   "id": "eda1fd88",
   "metadata": {},
   "outputs": [
    {
     "name": "stdout",
     "output_type": "stream",
     "text": [
      "6\n",
      "5\n"
     ]
    }
   ],
   "source": [
    "def occ(nums,ele):\n",
    "    c=0\n",
    "    for i in nums:\n",
    "        if ele == i:\n",
    "            c = c+1\n",
    "    return c\n",
    "\n",
    "print(occ([1,2,3,4,5,4,3,2,1,2,3,4,5,6,7,6,5,4,5,4,5,4,8] , 4))\n",
    "print(occ([1,2,3,4,5,4,3,2,1,2,3,4,5,6,7,6,5,4,5,4,5,4,8] , 5))"
   ]
  },
  {
   "cell_type": "markdown",
   "id": "5860ba57",
   "metadata": {},
   "source": [
    "44. Implement a function to check if a given number is a perfect number."
   ]
  },
  {
   "cell_type": "code",
   "execution_count": 72,
   "id": "881311ac",
   "metadata": {},
   "outputs": [
    {
     "data": {
      "text/plain": [
       "True"
      ]
     },
     "execution_count": 72,
     "metadata": {},
     "output_type": "execute_result"
    }
   ],
   "source": [
    "def is_perfect_number(number):\n",
    "    if number <= 0:\n",
    "        return False\n",
    "\n",
    "    divisor_sum = 0\n",
    "    for i in range(1, number):\n",
    "        if number % i == 0:\n",
    "            divisor_sum += i\n",
    "            \n",
    "    if divisor_sum == number:\n",
    "        return True\n",
    "    else:\n",
    "        return False\n",
    "\n",
    "\n",
    "is_perfect_number(28)"
   ]
  },
  {
   "cell_type": "code",
   "execution_count": 73,
   "id": "5f626232",
   "metadata": {},
   "outputs": [
    {
     "name": "stdout",
     "output_type": "stream",
     "text": [
      "False\n",
      "True\n"
     ]
    }
   ],
   "source": [
    "print(is_perfect_number(159)) \n",
    "print(is_perfect_number(496))"
   ]
  },
  {
   "cell_type": "markdown",
   "id": "77ebb620",
   "metadata": {},
   "source": [
    "45. Write a Python program to remove all duplicates from a string."
   ]
  },
  {
   "cell_type": "code",
   "execution_count": 74,
   "id": "34b06654",
   "metadata": {},
   "outputs": [
    {
     "data": {
      "text/plain": [
       "'gsaht'"
      ]
     },
     "execution_count": 74,
     "metadata": {},
     "output_type": "execute_result"
    }
   ],
   "source": [
    "string='sghtas'\n",
    "ss=list(string)\n",
    "''.join(set(ss))"
   ]
  },
  {
   "cell_type": "code",
   "execution_count": 75,
   "id": "814b8591",
   "metadata": {},
   "outputs": [
    {
     "name": "stdout",
     "output_type": "stream",
     "text": [
      "abcdems\n"
     ]
    }
   ],
   "source": [
    "def remove_duplicates(string):\n",
    "    unique_chars = []\n",
    "    for char in string:\n",
    "        if char not in unique_chars:\n",
    "            unique_chars.append(char)\n",
    "    return ''.join(unique_chars)\n",
    "\n",
    "print(remove_duplicates(\"aaabbbbccccdddeeeeemmmmmsssss\"))\n"
   ]
  },
  {
   "cell_type": "markdown",
   "id": "11bb45de",
   "metadata": {},
   "source": [
    "46. Implement a function to find the first missing positive"
   ]
  },
  {
   "cell_type": "code",
   "execution_count": 76,
   "id": "f5d7cc24",
   "metadata": {},
   "outputs": [
    {
     "data": {
      "text/plain": [
       "3"
      ]
     },
     "execution_count": 76,
     "metadata": {},
     "output_type": "execute_result"
    }
   ],
   "source": [
    "def missing(nums):\n",
    "    num=set(nums)\n",
    "    ps=1\n",
    "    while ps in num:\n",
    "        ps+=1\n",
    "        \n",
    "    return ps\n",
    "\n",
    "missing([1,2,4,5,7,8])"
   ]
  },
  {
   "cell_type": "code",
   "execution_count": 77,
   "id": "a3ce8632",
   "metadata": {},
   "outputs": [
    {
     "name": "stdout",
     "output_type": "stream",
     "text": [
      "3\n"
     ]
    }
   ],
   "source": [
    "def find_first_missing_positive(nums):\n",
    "    n = len(nums)\n",
    "    for i in range(n):\n",
    "        if nums[i] <= 0:\n",
    "            nums[i] = n + 1\n",
    "            \n",
    "    for i in range(n):\n",
    "        num = abs(nums[i])\n",
    "        if num <= n:\n",
    "            nums[num - 1] = -abs(nums[num - 1])\n",
    "            \n",
    "    for i in range(n):\n",
    "        if nums[i] > 0:\n",
    "            return i + 1\n",
    "    return n + 1\n",
    "\n",
    "print(find_first_missing_positive([1,2,4,5,6,7,8,9]))\n"
   ]
  },
  {
   "cell_type": "code",
   "execution_count": null,
   "id": "9259a529",
   "metadata": {},
   "outputs": [],
   "source": []
  }
 ],
 "metadata": {
  "kernelspec": {
   "display_name": "Python 3 (ipykernel)",
   "language": "python",
   "name": "python3"
  },
  "language_info": {
   "codemirror_mode": {
    "name": "ipython",
    "version": 3
   },
   "file_extension": ".py",
   "mimetype": "text/x-python",
   "name": "python",
   "nbconvert_exporter": "python",
   "pygments_lexer": "ipython3",
   "version": "3.9.13"
  }
 },
 "nbformat": 4,
 "nbformat_minor": 5
}
