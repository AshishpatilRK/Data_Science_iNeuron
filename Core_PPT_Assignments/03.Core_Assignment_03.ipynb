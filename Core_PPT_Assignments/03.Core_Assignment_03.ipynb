{
 "cells": [
  {
   "cell_type": "markdown",
   "id": "386983bd",
   "metadata": {},
   "source": [
    "# Core_Assignment_03"
   ]
  },
  {
   "cell_type": "code",
   "execution_count": 1,
   "id": "e9495ddb",
   "metadata": {},
   "outputs": [],
   "source": [
    "import pandas as pd\n",
    "import numpy as np\n",
    "from scipy import stats as st"
   ]
  },
  {
   "cell_type": "markdown",
   "id": "d3074bdb",
   "metadata": {},
   "source": [
    "1. Scenario: A company wants to analyze the sales performance of its products in different regions. They have collected the following data:<br>\n",
    "   Region A: [10, 15, 12, 8, 14]<br>\n",
    "   Region B: [18, 20, 16, 22, 25]<br>\n",
    "   Calculate the mean sales for each region.<br>\n"
   ]
  },
  {
   "cell_type": "code",
   "execution_count": 2,
   "id": "01a03a59",
   "metadata": {},
   "outputs": [
    {
     "name": "stdout",
     "output_type": "stream",
     "text": [
      "The mean sales of Region A: 11.8\n",
      "The mean sales of Region B: 20.2\n"
     ]
    }
   ],
   "source": [
    "regA = [10, 15, 12, 8, 14]\n",
    "regB = [18, 20, 16, 22, 25]\n",
    "\n",
    "print(f\"The mean sales of Region A: {np.mean(regA)}\")\n",
    "print(f\"The mean sales of Region B: {np.mean(regB)}\")"
   ]
  },
  {
   "cell_type": "markdown",
   "id": "eb7416c9",
   "metadata": {},
   "source": [
    "2. Scenario: A survey is conducted to measure customer satisfaction on a scale of 1 to 5. The data collected is as follows:<br>\n",
    "   [4, 5, 2, 3, 5, 4, 3, 2, 4, 5]<br>\n",
    "   Calculate the mode of the survey responses.\n"
   ]
  },
  {
   "cell_type": "code",
   "execution_count": 4,
   "id": "d90927e6",
   "metadata": {},
   "outputs": [
    {
     "name": "stdout",
     "output_type": "stream",
     "text": [
      "the mode of the survey responses is 4\n"
     ]
    }
   ],
   "source": [
    "cust_satisfaction_data = [4, 5, 2, 3, 5, 4, 3, 2, 4, 5]\n",
    "\n",
    "print(f\"the mode of the survey responses is {st.mode(cust_satisfaction_data)[0][0]}\")"
   ]
  },
  {
   "cell_type": "markdown",
   "id": "174f3dd5",
   "metadata": {},
   "source": [
    "3. Scenario: A company wants to compare the salaries of two departments. The salary data for Department A and Department B are as follows:<br>\n",
    "           Department A: [5000, 6000, 5500, 7000]<br>\n",
    "           Department B: [4500, 5500, 5800, 6000, 5200]<br>\n",
    "   Calculate the median salary for each department.\n",
    "\n"
   ]
  },
  {
   "cell_type": "code",
   "execution_count": 5,
   "id": "daa05e69",
   "metadata": {},
   "outputs": [
    {
     "name": "stdout",
     "output_type": "stream",
     "text": [
      "The Median salary of department A: 5750.0\n",
      "The Median salary of department B: 5500.0\n"
     ]
    }
   ],
   "source": [
    "deptA = [5000, 6000, 5500, 7000]\n",
    "deptB = [4500, 5500, 5800, 6000, 5200]\n",
    "\n",
    "print(f\"The Median salary of department A: {np.median(deptA)}\")\n",
    "print(f\"The Median salary of department B: {np.median(deptB)}\")"
   ]
  },
  {
   "cell_type": "markdown",
   "id": "db7f60bf",
   "metadata": {},
   "source": [
    "4. Scenario: A data analyst wants to determine the variability in the daily stock prices of a company. The data collected is as follows:<br>\n",
    "   [25.5, 24.8, 26.1, 25.3, 24.9]<br>\n",
    "   Calculate the range of the stock prices.\n"
   ]
  },
  {
   "cell_type": "markdown",
   "id": "dbb1485b",
   "metadata": {},
   "source": [
    "Range (24.8, 26.1)"
   ]
  },
  {
   "cell_type": "markdown",
   "id": "92041796",
   "metadata": {},
   "source": [
    "5. Scenario: A study is conducted to compare the performance of two different teaching methods. The test scores of the students in each group are as follows:<br>\n",
    "   Group A: [85, 90, 92, 88, 91]<br>\n",
    "   Group B: [82, 88, 90, 86, 87]<br>\n",
    "   Perform a t-test to determine if there is a significant difference in the mean scores between the two groups.\n"
   ]
  },
  {
   "cell_type": "code",
   "execution_count": 7,
   "id": "696818a8",
   "metadata": {},
   "outputs": [
    {
     "name": "stdout",
     "output_type": "stream",
     "text": [
      "t-statistic: 1.431\n",
      "p-value: 0.190\n",
      "There is no significance difference in the mean scores between two groups\n"
     ]
    }
   ],
   "source": [
    "grpA = [85, 90, 92, 88, 91]\n",
    "grpB = [82, 88, 90, 86, 87]\n",
    "significance_value = 0.05\n",
    "\n",
    "t_statstic, p_val = st.stats.ttest_ind(grpA,grpB)\n",
    "\n",
    "print(\"t-statistic: {:.3f}\".format(t_statstic))\n",
    "print(\"p-value: {:.3f}\".format(p_val))\n",
    "\n",
    "if p_val < significance_value:\n",
    "    print(\"There is significance difference in the mean scores between two groups\")\n",
    "else:\n",
    "    print(\"There is no significance difference in the mean scores between two groups\")"
   ]
  },
  {
   "cell_type": "markdown",
   "id": "22ae37e0",
   "metadata": {},
   "source": [
    "6. Scenario: A company wants to analyze the relationship between advertising expenditure and sales. The data collected is as follows:<br>\n",
    "   Advertising Expenditure (in thousands): [10, 15, 12, 8, 14]<br>\n",
    "   Sales (in thousands): [25, 30, 28, 20, 26]<br>\n",
    "   Calculate the correlation coefficient between advertising expenditure and sales.<br>\n"
   ]
  },
  {
   "cell_type": "code",
   "execution_count": 9,
   "id": "95d6ac18",
   "metadata": {},
   "outputs": [
    {
     "name": "stdout",
     "output_type": "stream",
     "text": [
      "cor_coef: 0.876\n"
     ]
    }
   ],
   "source": [
    "ads_expenditure = [10, 15, 12, 8, 14]\n",
    "sales = [25, 30, 28, 20, 26]\n",
    "\n",
    "cor_coef = np.corrcoef(ads_expenditure,sales)[1,0]\n",
    "print(\"cor_coef: {:.3f}\".format(cor_coef))"
   ]
  },
  {
   "cell_type": "markdown",
   "id": "00b9f030",
   "metadata": {},
   "source": [
    "7. Scenario: A survey is conducted to measure the heights of a group of people. The data collected is as follows:<br>\n",
    "   [160, 170, 165, 155, 175, 180, 170]<br>\n",
    "   Calculate the standard deviation of the heights.<br>\n"
   ]
  },
  {
   "cell_type": "code",
   "execution_count": 8,
   "id": "fb9ecf58",
   "metadata": {},
   "outputs": [
    {
     "name": "stdout",
     "output_type": "stream",
     "text": [
      "The Standard Deviation of Heights: 7.953949089757174\n"
     ]
    }
   ],
   "source": [
    "heights = [160, 170, 165, 155, 175, 180, 170]\n",
    "print(f\"The Standard Deviation of Heights: {np.std(heights)}\")"
   ]
  },
  {
   "cell_type": "markdown",
   "id": "85cc7faf",
   "metadata": {},
   "source": [
    "8. Scenario: A company wants to analyze the relationship between employee tenure and job satisfaction. The data collected is as follows:<br>\n",
    "   Employee Tenure (in years): [2, 3, 5, 4, 6, 2, 4]<br>\n",
    "   Job Satisfaction (on a scale of 1 to 10): [7, 8, 6, 9, 5, 7, 6]<br>\n",
    "   Perform a linear regression analysis to predict job satisfaction based on employee tenure.<br>\n"
   ]
  },
  {
   "cell_type": "code",
   "execution_count": 10,
   "id": "1af453ac",
   "metadata": {},
   "outputs": [
    {
     "name": "stdout",
     "output_type": "stream",
     "text": [
      "Intercept: 8.596\n",
      "Slope: -0.468\n"
     ]
    }
   ],
   "source": [
    "from sklearn.linear_model import LinearRegression\n",
    "\n",
    "emp_tenure = np.array([2, 3, 5, 4, 6, 2, 4]).reshape(-1, 1)\n",
    "job_satisfaction = np.array([7, 8, 6, 9, 5, 7, 6])\n",
    "\n",
    "model = LinearRegression()\n",
    "\n",
    "model.fit(emp_tenure,job_satisfaction)\n",
    "\n",
    "intercept = model.intercept_\n",
    "slope = model.coef_[0]\n",
    "\n",
    "print(\"Intercept: {:.3f}\".format(intercept))\n",
    "print(\"Slope: {:.3f}\".format(slope))"
   ]
  },
  {
   "cell_type": "markdown",
   "id": "5d01008f",
   "metadata": {},
   "source": [
    "The intercept represents the predicted job satisfaction when the employee tenure is zero, and the slope represents the change in job satisfaction for every one unit increase in employee tenure."
   ]
  },
  {
   "cell_type": "markdown",
   "id": "b4c72260",
   "metadata": {},
   "source": [
    "9. Scenario: A study is conducted to compare the effectiveness of two different medications. The recovery times of the patients in each group are as follows:<br>\n",
    "   Medication A: [10, 12, 14, 11, 13]<br>\n",
    "   Medication B: [15, 17, 16, 14, 18]<br>\n",
    "   Perform an analysis of variance (ANOVA) to determine if there is a significant difference in the mean recovery times between the two medications.<br>\n"
   ]
  },
  {
   "cell_type": "code",
   "execution_count": 11,
   "id": "5e8700ae",
   "metadata": {},
   "outputs": [
    {
     "name": "stdout",
     "output_type": "stream",
     "text": [
      " F_Statistic: 16.0, p_value: 0.003949772803445326\n",
      "There is significance difference in the mean recovery times\n"
     ]
    }
   ],
   "source": [
    "medA = [10, 12, 14, 11, 13]\n",
    "medB = [15, 17, 16, 14, 18]\n",
    "significance_value = 0.05\n",
    "\n",
    "f_statistic, p_value = st.stats.f_oneway(medA,medB)\n",
    "\n",
    "print(f\" F_Statistic: {f_statistic}, p_value: {p_value}\")\n",
    "if p_value < significance_value:\n",
    "    print(\"There is significance difference in the mean recovery times\")\n",
    "else:\n",
    "    print(\"There is no significance difference in the mean recovery times\")"
   ]
  },
  {
   "cell_type": "markdown",
   "id": "2af5a6ca",
   "metadata": {},
   "source": [
    "10. Scenario: A company wants to analyze customer feedback ratings on a scale of 1 to 10. The data collected is\n",
    "as follows:<br>\n",
    "    [8, 9, 7, 6, 8, 10, 9, 8, 7, 8]<br>\n",
    "    Calculate the 75th percentile of the feedback ratings.<br>\n"
   ]
  },
  {
   "cell_type": "code",
   "execution_count": 12,
   "id": "04e0de96",
   "metadata": {},
   "outputs": [
    {
     "name": "stdout",
     "output_type": "stream",
     "text": [
      "The 75th percentile of the feedback rating: 8.75\n"
     ]
    }
   ],
   "source": [
    "feedback_ratings = [8, 9, 7, 6, 8, 10, 9, 8, 7, 8]\n",
    "print(f\"The 75th percentile of the feedback rating: {np.percentile(feedback_ratings,75)}\")"
   ]
  },
  {
   "cell_type": "markdown",
   "id": "8fd92f4c",
   "metadata": {},
   "source": [
    "11. Scenario: A quality control department wants to test the weight consistency of a product. The weights of a sample of products are as follows:<br>\n",
    "    [10.2, 9.8, 10.0, 10.5, 10.3, 10.1]<br>\n",
    "    Perform a hypothesis test to determine if the mean weight differs significantly from 10 grams.<br>"
   ]
  },
  {
   "cell_type": "code",
   "execution_count": 13,
   "id": "7ec96cc5",
   "metadata": {},
   "outputs": [
    {
     "name": "stdout",
     "output_type": "stream",
     "text": [
      "t-statistic: 1.513\n",
      "p-value: 0.191\n",
      "The weight does not differs significantly\n"
     ]
    }
   ],
   "source": [
    "weights = [10.2, 9.8, 10.0, 10.5, 10.3, 10.1]\n",
    "significance_value = 0.05\n",
    "hypothesis_mean = 10\n",
    "\n",
    "t_statistic, p_value = st.stats.ttest_1samp(weights,hypothesis_mean)\n",
    "print(\"t-statistic: {:.3f}\".format(t_statistic))\n",
    "print(\"p-value: {:.3f}\".format(p_value))\n",
    "\n",
    "if p_value < significance_value:\n",
    "    print(\"The weight differs significantly\")\n",
    "else:\n",
    "    print(\"The weight does not differs significantly\")"
   ]
  },
  {
   "cell_type": "markdown",
   "id": "4090784f",
   "metadata": {},
   "source": [
    "12. Scenario: A company wants to analyze the click-through rates of two different website designs. The number of clicks for each design is as follows:<br>\n",
    "    Design A: [100, 120, 110, 90, 95]<br>\n",
    "    Design B: [80, 85, 90, 95, 100]<br>\n",
    "    Perform a chi-square test to determine if there is a significant difference in the click-through rates between the two designs.<br>\n"
   ]
  },
  {
   "cell_type": "code",
   "execution_count": 14,
   "id": "20129b96",
   "metadata": {},
   "outputs": [
    {
     "name": "stdout",
     "output_type": "stream",
     "text": [
      "chi square value determined by formula : 18.38563264221159\n",
      "chi square critical value:9.487729036781154\n",
      "reject null hypothesis\n"
     ]
    }
   ],
   "source": [
    "import scipy.stats as stats\n",
    "import numpy as np\n",
    "\n",
    "a=[100, 120, 110, 90, 95]\n",
    "b=[80, 85, 90, 95, 100]\n",
    "chi_test_statistic = 0\n",
    "for i in range(len(b)):\n",
    "    chi_test_statistic = chi_test_statistic + \\\n",
    "        (np.square(b[i]-a[i]))/a[i]\n",
    "    \n",
    "print('chi square value determined by formula : ' +\n",
    "      str(chi_test_statistic))\n",
    "\n",
    "chi_crit=stats.chi2.ppf(1-0.05, df=4)\n",
    "print('chi square critical value:'+str(chi_crit))\n",
    "\n",
    "if chi_test_statistic>chi_crit:\n",
    "    print('reject null hypothesis')\n",
    "else:\n",
    "    print('accept null hypothesis')"
   ]
  },
  {
   "cell_type": "markdown",
   "id": "6ca6d7d6",
   "metadata": {},
   "source": [
    "13. Scenario: A survey is conducted to measure customer satisfaction with a product on a scale of 1 to 10. The data collected is as follows:<br>\n",
    "    [7, 9, 6, 8, 10, 7, 8, 9, 7, 8]<br>\n",
    "    Calculate the 95% confidence interval for the population mean satisfaction score.<br>\n"
   ]
  },
  {
   "cell_type": "code",
   "execution_count": 19,
   "id": "ae7a1a92",
   "metadata": {},
   "outputs": [
    {
     "name": "stdout",
     "output_type": "stream",
     "text": [
      "95% Confidence Interval: [7.044, 8.756]\n",
      "The confidence interval range:(7.043561120599888, 8.756438879400113) which means that there are 95% chances the confidence interval contains the true population mean\n"
     ]
    }
   ],
   "source": [
    "satisfaction_scores = np.array([7, 9, 6, 8, 10, 7, 8, 9, 7, 8])\n",
    "alpha = 0.95\n",
    "dof = len(satisfaction_scores)-1 #degree of freedom\n",
    "sample_mean = np.mean(satisfaction_scores)\n",
    "sem = st.sem(satisfaction_scores) #standard error of the mean\n",
    "\n",
    "confidence_interval = st.t.interval(alpha, dof, loc = sample_mean, scale = sem)\n",
    "\n",
    "print(\"95% Confidence Interval: [{:.3f}, {:.3f}]\".format(confidence_interval[0], confidence_interval[1]))\n",
    "print(f'The confidence interval range:{confidence_interval} which means that there are 95% chances the confidence interval contains the true population mean')"
   ]
  },
  {
   "cell_type": "markdown",
   "id": "b27b6765",
   "metadata": {},
   "source": [
    "14. Scenario: A company wants to analyze the effect of temperature on product performance. The data collected is as follows:\n",
    "    Temperature (in degrees Celsius): [20, 22, 23, 19, 21]<br>\n",
    "    Performance (on a scale of 1 to 10): [8, 7, 9, 6, 8]<br>\n",
    "    Perform a simple linear regression to predict performance based on temperature.<br>\n"
   ]
  },
  {
   "cell_type": "code",
   "execution_count": 20,
   "id": "c4e5e8c3",
   "metadata": {},
   "outputs": [
    {
     "data": {
      "text/plain": [
       "LinearRegression()"
      ]
     },
     "execution_count": 20,
     "metadata": {},
     "output_type": "execute_result"
    }
   ],
   "source": [
    "from sklearn.linear_model import LinearRegression\n",
    "\n",
    "temp = np.array([20, 22, 23, 19, 21]).reshape(-1,1)\n",
    "performance = np.array([8, 7, 9, 6, 8])\n",
    "\n",
    "model = LinearRegression()\n",
    "\n",
    "model.fit(temp,performance)"
   ]
  },
  {
   "cell_type": "code",
   "execution_count": 21,
   "id": "f41a4747",
   "metadata": {},
   "outputs": [
    {
     "data": {
      "text/plain": [
       "array([ 7.6,  8.1,  9.6, 12.1, 19.6,  4.6])"
      ]
     },
     "execution_count": 21,
     "metadata": {},
     "output_type": "execute_result"
    }
   ],
   "source": [
    "test_data = np.array([21,22,25,30,45,15]).reshape(-1,1)\n",
    "model.predict(test_data)"
   ]
  },
  {
   "cell_type": "markdown",
   "id": "ca12cd66",
   "metadata": {},
   "source": [
    "15. Scenario: A study is conducted to compare the preferences of two groups of participants. The preferences are measured on a Likert scale from 1 to 5. The data collected is as follows:<br>\n",
    "    Group A: [4, 3, 5, 2, 4]<br>\n",
    "    Group B: [3, 2, 4, 3, 3]<br>\n",
    "    Perform a Mann-Whitney U test to determine if there is a significant difference in the median preferences between the two groups.<br>\n"
   ]
  },
  {
   "cell_type": "code",
   "execution_count": 22,
   "id": "20d9f2b6",
   "metadata": {},
   "outputs": [
    {
     "name": "stdout",
     "output_type": "stream",
     "text": [
      "The Statistic = 17.0\n",
      "P Value = 0.380836480306712\n",
      "there is not a significant difference in the median preferences between the two groups(Fail to Reject Null Hypothesis)\n"
     ]
    }
   ],
   "source": [
    "groupA = [4, 3, 5, 2, 4]\n",
    "groupB = [3, 2, 4, 3, 3]\n",
    "significance_value = 0.05\n",
    "\n",
    "mann_statistic, p_value = st.mannwhitneyu(groupA,groupB)\n",
    "\n",
    "print(f\"The Statistic = {mann_statistic}\")\n",
    "print(f\"P Value = {p_value}\")\n",
    "\n",
    "if p_value < significance_value:\n",
    "    print(\"there is a significant difference in the median preferences between the two groups(Reject Null Hypothesis)\")\n",
    "else:\n",
    "    print(\"there is not a significant difference in the median preferences between the two groups(Fail to Reject Null Hypothesis)\")"
   ]
  },
  {
   "cell_type": "markdown",
   "id": "4eda58bf",
   "metadata": {},
   "source": [
    "16. Scenario: A company wants to analyze the distribution of customer ages. The data collected is as follows:<br>\n",
    "    [25, 30, 35, 40, 45, 50, 55, 60, 65, 70]<br>\n",
    "    Calculate the interquartile range (IQR) of the ages.<br>"
   ]
  },
  {
   "cell_type": "code",
   "execution_count": 23,
   "id": "21b962f2",
   "metadata": {},
   "outputs": [
    {
     "name": "stdout",
     "output_type": "stream",
     "text": [
      "The IQR of the ages is 22.5\n"
     ]
    }
   ],
   "source": [
    "ages = [25, 30, 35, 40, 45, 50, 55, 60, 65, 70]\n",
    "\n",
    "q1 = np.percentile(ages,25)\n",
    "q3 = np.percentile(ages,75)\n",
    "\n",
    "iqr = q3-q1\n",
    "print(f\"The IQR of the ages is {iqr}\")"
   ]
  },
  {
   "cell_type": "markdown",
   "id": "0264de5d",
   "metadata": {},
   "source": [
    "17. Scenario: A study is conducted to compare the performance of three different machine learning algorithms. The accuracy scores for each algorithm are as follows:<br>\n",
    "    Algorithm A: [0.85, 0.80, 0.82, 0.87, 0.83]<br>\n",
    "    Algorithm B: [0.78, 0.82, 0.84, 0.80, 0.79]<br>\n",
    "    Algorithm C: [0.90, 0.88, 0.89, 0.86, 0.87]<br>\n",
    "    Perform a Kruskal-Wallis test to determine if there is a significant difference in the median accuracy scores between the algorithms.<br>\n"
   ]
  },
  {
   "cell_type": "code",
   "execution_count": 25,
   "id": "24ba78f4",
   "metadata": {},
   "outputs": [
    {
     "name": "stdout",
     "output_type": "stream",
     "text": [
      "Kruskal-Wallis statistic: 9.697\n",
      "p-value: 0.008\n",
      "there is a significant difference in the median accuracy scores between the algorithms (Reject null hypothesis ).\n"
     ]
    }
   ],
   "source": [
    "algoA = [0.85, 0.80, 0.82, 0.87, 0.83]\n",
    "algoB = [0.78, 0.82, 0.84, 0.80, 0.79]\n",
    "algoC = [0.90, 0.88, 0.89, 0.86, 0.87]\n",
    "significance_value = 0.05\n",
    "\n",
    "kruskal_statistic, p_value = st.kruskal(algoA,algoB,algoC)\n",
    "\n",
    "print(\"Kruskal-Wallis statistic: {:.3f}\".format(kruskal_statistic))\n",
    "print(\"p-value: {:.3f}\".format(p_value))\n",
    "\n",
    "if p_value < significance_value:\n",
    "    print(\"there is a significant difference in the median accuracy scores between the algorithms (Reject null hypothesis ).\")\n",
    "else:\n",
    "    print(\"there is a significant difference in the median accuracy scores between the algorithms (Fail to reject null hypothesis).\")"
   ]
  },
  {
   "cell_type": "markdown",
   "id": "ac9283f5",
   "metadata": {},
   "source": [
    "18. Scenario: A company wants to analyze the effect of price on sales. The data collected is as follows:<br>\n",
    "    Price (in dollars): [10, 15, 12, 8, 14]<br>\n",
    "    Sales: [100, 80, 90, 110, 95]<br>\n",
    "    Perform a simple linear regression to predict sales based on price.<br>\n"
   ]
  },
  {
   "cell_type": "code",
   "execution_count": 26,
   "id": "df8419aa",
   "metadata": {},
   "outputs": [
    {
     "name": "stdout",
     "output_type": "stream",
     "text": [
      "[[100.  80.  90. 110.  95.]]\n"
     ]
    }
   ],
   "source": [
    "x= [10, 15, 12, 8, 14]\n",
    "y= [100, 80, 90, 110, 95]\n",
    "\n",
    "x1=[15,10,8,14,12]\n",
    "y1=[100,110,90,95,80]\n",
    "\n",
    "import pandas as pd\n",
    "from sklearn.linear_model import LinearRegression\n",
    "\n",
    "lr=LinearRegression()\n",
    "\n",
    "x=np.array(x)\n",
    "y=np.array(y)\n",
    "x1=np.array(x1)\n",
    "y1=np.array(y1)\n",
    "\n",
    "X=x.reshape(1,-1)\n",
    "y=y.reshape(1,-1)\n",
    "\n",
    "x_test=x1.reshape(1,-1)\n",
    "y_test=y1.reshape(1,-1)\n",
    "\n",
    "model=lr.fit(X,y)\n",
    "y_pred=model.predict(x_test)\n",
    "print(y_pred)"
   ]
  },
  {
   "cell_type": "markdown",
   "id": "bd474271",
   "metadata": {},
   "source": [
    "19. Scenario: A survey is conducted to measure the satisfaction levels of customers with a new product. The data collected is as follows:<br>\n",
    "    [7, 8, 9, 6, 8, 7, 9, 7, 8, 7]<br>\n",
    "    Calculate the standard error of the mean satisfaction score.<br>\n"
   ]
  },
  {
   "cell_type": "code",
   "execution_count": 27,
   "id": "b83ca999",
   "metadata": {},
   "outputs": [
    {
     "name": "stdout",
     "output_type": "stream",
     "text": [
      "standard error of the mean satisfaction score: 0.30550504633038933\n"
     ]
    }
   ],
   "source": [
    "satisfaction_scores = [7, 8, 9, 6, 8, 7, 9, 7, 8, 7]\n",
    "\n",
    "sem = st.sem(satisfaction_scores)\n",
    "print(f\"standard error of the mean satisfaction score: {sem}\")"
   ]
  },
  {
   "cell_type": "markdown",
   "id": "98166b88",
   "metadata": {},
   "source": [
    "20. Scenario: A company wants to analyze the relationship between advertising expenditure and sales. The data collected is as follows:<br>\n",
    "    Advertising Expenditure (in thousands): [10, 15, 12, 8, 14]<br>\n",
    "    Sales (in thousands): [25, 30, 28, 20, 26]<br>\n",
    "    Perform a multiple regression analysis to predict sales based on advertising expenditure.<br>\n"
   ]
  },
  {
   "cell_type": "code",
   "execution_count": 30,
   "id": "4141cbd7",
   "metadata": {},
   "outputs": [
    {
     "name": "stdout",
     "output_type": "stream",
     "text": [
      "                            OLS Regression Results                            \n",
      "==============================================================================\n",
      "Dep. Variable:                  Sales   R-squared:                       0.767\n",
      "Model:                            OLS   Adj. R-squared:                  0.689\n",
      "Method:                 Least Squares   F-statistic:                     9.872\n",
      "Date:                Sun, 16 Jul 2023   Prob (F-statistic):             0.0516\n",
      "Time:                        11:01:14   Log-Likelihood:                -9.5288\n",
      "No. Observations:                   5   AIC:                             23.06\n",
      "Df Residuals:                       3   BIC:                             22.28\n",
      "Df Model:                           1                                         \n",
      "Covariance Type:            nonrobust                                         \n",
      "===============================================================================\n",
      "                  coef    std err          t      P>|t|      [0.025      0.975]\n",
      "-------------------------------------------------------------------------------\n",
      "const          12.2012      4.429      2.755      0.070      -1.893      26.296\n",
      "Advertising     1.1524      0.367      3.142      0.052      -0.015       2.320\n",
      "==============================================================================\n",
      "Omnibus:                          nan   Durbin-Watson:                   1.136\n",
      "Prob(Omnibus):                    nan   Jarque-Bera (JB):                0.546\n",
      "Skew:                          -0.267   Prob(JB):                        0.761\n",
      "Kurtosis:                       1.471   Cond. No.                         57.3\n",
      "==============================================================================\n",
      "\n",
      "Notes:\n",
      "[1] Standard Errors assume that the covariance matrix of the errors is correctly specified.\n"
     ]
    },
    {
     "name": "stderr",
     "output_type": "stream",
     "text": [
      "C:\\Users\\ashis\\anaconda3\\lib\\site-packages\\statsmodels\\stats\\stattools.py:74: ValueWarning: omni_normtest is not valid with less than 8 observations; 5 samples were given.\n",
      "  warn(\"omni_normtest is not valid with less than 8 observations; %i \"\n"
     ]
    }
   ],
   "source": [
    "import statsmodels.api as sm\n",
    "import pandas as pd\n",
    "\n",
    "advertising_expenditure = [10, 15, 12, 8, 14]\n",
    "sales = [25, 30, 28, 20, 26]\n",
    "data = pd.DataFrame({'Advertising': advertising_expenditure, 'Sales': sales})\n",
    "\n",
    "data = sm.add_constant(data)\n",
    "\n",
    "model = sm.OLS(data['Sales'], data[['const', 'Advertising']])\n",
    "results = model.fit()\n",
    "\n",
    "print(results.summary())"
   ]
  },
  {
   "cell_type": "code",
   "execution_count": null,
   "id": "9180a489",
   "metadata": {},
   "outputs": [],
   "source": []
  }
 ],
 "metadata": {
  "kernelspec": {
   "display_name": "Python 3 (ipykernel)",
   "language": "python",
   "name": "python3"
  },
  "language_info": {
   "codemirror_mode": {
    "name": "ipython",
    "version": 3
   },
   "file_extension": ".py",
   "mimetype": "text/x-python",
   "name": "python",
   "nbconvert_exporter": "python",
   "pygments_lexer": "ipython3",
   "version": "3.9.13"
  }
 },
 "nbformat": 4,
 "nbformat_minor": 5
}
